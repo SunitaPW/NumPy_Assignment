{
  "nbformat": 4,
  "nbformat_minor": 0,
  "metadata": {
    "colab": {
      "provenance": []
    },
    "kernelspec": {
      "name": "python3",
      "display_name": "Python 3"
    },
    "language_info": {
      "name": "python"
    }
  },
  "cells": [
    {
      "cell_type": "markdown",
      "source": [
        "# Answer 1"
      ],
      "metadata": {
        "id": "I8wAbOsBcu82"
      }
    },
    {
      "cell_type": "code",
      "source": [
        "import numpy as np"
      ],
      "metadata": {
        "id": "sTUUiqMpdMvE"
      },
      "execution_count": 2,
      "outputs": []
    },
    {
      "cell_type": "code",
      "execution_count": null,
      "metadata": {
        "colab": {
          "base_uri": "https://localhost:8080/"
        },
        "id": "VDXGmQNrcoFt",
        "outputId": "935e1ef1-c95c-48ff-d2e8-5c77a44b2055"
      },
      "outputs": [
        {
          "output_type": "execute_result",
          "data": {
            "text/plain": [
              "array([[65, 82, 79],\n",
              "       [15, 38, 69],\n",
              "       [74, 33, 44]])"
            ]
          },
          "metadata": {},
          "execution_count": 7
        }
      ],
      "source": [
        "# Created array :-\n",
        "a = np.random.randint(1, 100, (3, 3))\n",
        "a"
      ]
    },
    {
      "cell_type": "code",
      "source": [
        "# Interchange its rows and columns :-\n",
        "\n",
        "a.T"
      ],
      "metadata": {
        "colab": {
          "base_uri": "https://localhost:8080/"
        },
        "id": "6bUFZFdldyaI",
        "outputId": "79c13b6d-1ec6-42f9-ca45-d7c5d28ce60f"
      },
      "execution_count": null,
      "outputs": [
        {
          "output_type": "execute_result",
          "data": {
            "text/plain": [
              "array([[65, 15, 74],\n",
              "       [82, 38, 33],\n",
              "       [79, 69, 44]])"
            ]
          },
          "metadata": {},
          "execution_count": 8
        }
      ]
    },
    {
      "cell_type": "markdown",
      "source": [
        "# Answer 2 :-"
      ],
      "metadata": {
        "id": "A5ncj7yWftft"
      }
    },
    {
      "cell_type": "code",
      "source": [
        "#Generate a 1D NumPy array with 10 elements :-\n",
        "\n",
        "b = np.arange(10)\n",
        "b"
      ],
      "metadata": {
        "colab": {
          "base_uri": "https://localhost:8080/"
        },
        "id": "1SkuGRIYeJQr",
        "outputId": "f01d581e-686d-419f-c729-cd868f5278ee"
      },
      "execution_count": null,
      "outputs": [
        {
          "output_type": "execute_result",
          "data": {
            "text/plain": [
              "array([0, 1, 2, 3, 4, 5, 6, 7, 8, 9])"
            ]
          },
          "metadata": {},
          "execution_count": 12
        }
      ]
    },
    {
      "cell_type": "code",
      "source": [
        "# Reshape it into a 2x5 array :-\n",
        "\n",
        "c = b.reshape(2, 5)\n",
        "c"
      ],
      "metadata": {
        "colab": {
          "base_uri": "https://localhost:8080/"
        },
        "id": "WnjGIuDge6vO",
        "outputId": "94fe8145-15c7-4ce4-f7fe-e953f8170750"
      },
      "execution_count": null,
      "outputs": [
        {
          "output_type": "execute_result",
          "data": {
            "text/plain": [
              "array([[0, 1, 2, 3, 4],\n",
              "       [5, 6, 7, 8, 9]])"
            ]
          },
          "metadata": {},
          "execution_count": 15
        }
      ]
    },
    {
      "cell_type": "code",
      "source": [
        "# Again reshape into a 5x2 array :-\n",
        "\n",
        "c.reshape(5, 2)"
      ],
      "metadata": {
        "colab": {
          "base_uri": "https://localhost:8080/"
        },
        "id": "O4dfXWT8fI0d",
        "outputId": "35b494ec-c708-42a0-926c-5f7a24152c1b"
      },
      "execution_count": null,
      "outputs": [
        {
          "output_type": "execute_result",
          "data": {
            "text/plain": [
              "array([[0, 1],\n",
              "       [2, 3],\n",
              "       [4, 5],\n",
              "       [6, 7],\n",
              "       [8, 9]])"
            ]
          },
          "metadata": {},
          "execution_count": 16
        }
      ]
    },
    {
      "cell_type": "markdown",
      "source": [
        "# Answer 3 :-"
      ],
      "metadata": {
        "id": "51xcKZRhf9GM"
      }
    },
    {
      "cell_type": "code",
      "source": [
        "#  Create a 4x4 NumPy array with random float values. Add a border of zeros around it, resulting in a 6x6 array.\n",
        "\n",
        "d = np.random.rand(4, 4)\n",
        "d"
      ],
      "metadata": {
        "colab": {
          "base_uri": "https://localhost:8080/"
        },
        "id": "PqXD2wwyfoqu",
        "outputId": "58d1aee3-ea79-4d10-d276-ada98f7ad0d2"
      },
      "execution_count": null,
      "outputs": [
        {
          "output_type": "execute_result",
          "data": {
            "text/plain": [
              "array([[0.84264518, 0.89188873, 0.07601669, 0.55273753],\n",
              "       [0.56014096, 0.95542873, 0.2916025 , 0.57734243],\n",
              "       [0.16743977, 0.41853156, 0.92433011, 0.09265339],\n",
              "       [0.43572911, 0.41496081, 0.25517156, 0.01872291]])"
            ]
          },
          "metadata": {},
          "execution_count": 17
        }
      ]
    },
    {
      "cell_type": "code",
      "source": [
        "# Created a 6x6 zeros array.\n",
        "\n",
        "e = np.zeros((6, 6))\n",
        "e"
      ],
      "metadata": {
        "colab": {
          "base_uri": "https://localhost:8080/"
        },
        "id": "4c5tps1jgzbo",
        "outputId": "249d9fbc-ac1a-4500-8b80-6478ba1187bd"
      },
      "execution_count": null,
      "outputs": [
        {
          "output_type": "execute_result",
          "data": {
            "text/plain": [
              "array([[0., 0., 0., 0., 0., 0.],\n",
              "       [0., 0., 0., 0., 0., 0.],\n",
              "       [0., 0., 0., 0., 0., 0.],\n",
              "       [0., 0., 0., 0., 0., 0.],\n",
              "       [0., 0., 0., 0., 0., 0.],\n",
              "       [0., 0., 0., 0., 0., 0.]])"
            ]
          },
          "metadata": {},
          "execution_count": 22
        }
      ]
    },
    {
      "cell_type": "code",
      "source": [
        "# Adding a border of zeros around it the d :-\n",
        "\n",
        "e [1:5, 1:5] = d\n",
        "e"
      ],
      "metadata": {
        "colab": {
          "base_uri": "https://localhost:8080/"
        },
        "id": "6NsEdiKhhr0j",
        "outputId": "a0314d6d-f322-4201-9cf7-2645ef9b4388"
      },
      "execution_count": null,
      "outputs": [
        {
          "output_type": "execute_result",
          "data": {
            "text/plain": [
              "array([[0.        , 0.        , 0.        , 0.        , 0.        ,\n",
              "        0.        ],\n",
              "       [0.        , 0.84264518, 0.89188873, 0.07601669, 0.55273753,\n",
              "        0.        ],\n",
              "       [0.        , 0.56014096, 0.95542873, 0.2916025 , 0.57734243,\n",
              "        0.        ],\n",
              "       [0.        , 0.16743977, 0.41853156, 0.92433011, 0.09265339,\n",
              "        0.        ],\n",
              "       [0.        , 0.43572911, 0.41496081, 0.25517156, 0.01872291,\n",
              "        0.        ],\n",
              "       [0.        , 0.        , 0.        , 0.        , 0.        ,\n",
              "        0.        ]])"
            ]
          },
          "metadata": {},
          "execution_count": 26
        }
      ]
    },
    {
      "cell_type": "markdown",
      "source": [
        "# Answer 4 :-"
      ],
      "metadata": {
        "id": "eYq_VfO_lAvU"
      }
    },
    {
      "cell_type": "code",
      "source": [
        "#  Created an array of integers of (10, 60, 5) from using (start, stop, step) function.\n",
        "\n",
        "f = np.arange(10, 61, 5)\n",
        "f"
      ],
      "metadata": {
        "colab": {
          "base_uri": "https://localhost:8080/"
        },
        "id": "6gC34UQPkPa7",
        "outputId": "0aaaccf7-a378-4779-b85b-d88d5f2dbbf7"
      },
      "execution_count": 3,
      "outputs": [
        {
          "output_type": "execute_result",
          "data": {
            "text/plain": [
              "array([10, 15, 20, 25, 30, 35, 40, 45, 50, 55, 60])"
            ]
          },
          "metadata": {},
          "execution_count": 3
        }
      ]
    },
    {
      "cell_type": "markdown",
      "source": [
        "# Answer 5 :-"
      ],
      "metadata": {
        "id": "qfB6VdIvmIuK"
      }
    },
    {
      "cell_type": "code",
      "source": [
        "#  Created a NumPy array of strings ['python', 'numpy', 'pandas'] and stored it in variable array g\n",
        "\n",
        "g = np.array(['python', 'numpy', 'pandas'])\n",
        "g\n",
        "\n"
      ],
      "metadata": {
        "colab": {
          "base_uri": "https://localhost:8080/"
        },
        "id": "IZMExr0RlgbR",
        "outputId": "225b37b6-d751-47cb-fd4e-fe1b8bb87b03"
      },
      "execution_count": null,
      "outputs": [
        {
          "output_type": "execute_result",
          "data": {
            "text/plain": [
              "array(['python', 'numpy', 'pandas'], dtype='<U6')"
            ]
          },
          "metadata": {},
          "execution_count": 30
        }
      ]
    },
    {
      "cell_type": "code",
      "source": [
        "# Uppercase :-\n",
        "\n",
        "h = np.char.upper(g)\n",
        "h"
      ],
      "metadata": {
        "colab": {
          "base_uri": "https://localhost:8080/"
        },
        "id": "jUyT27qTmVXS",
        "outputId": "7871e90d-f92b-4056-9168-cae4c40f121c"
      },
      "execution_count": null,
      "outputs": [
        {
          "output_type": "execute_result",
          "data": {
            "text/plain": [
              "array(['PYTHON', 'NUMPY', 'PANDAS'], dtype='<U6')"
            ]
          },
          "metadata": {},
          "execution_count": 33
        }
      ]
    },
    {
      "cell_type": "code",
      "source": [
        "# Lowercase :-\n",
        "\n",
        "i = np.char.lower(h)\n",
        "i"
      ],
      "metadata": {
        "colab": {
          "base_uri": "https://localhost:8080/"
        },
        "id": "W-vrfc0CmpVg",
        "outputId": "38dd6440-e649-451a-a5bd-06fda464c708"
      },
      "execution_count": null,
      "outputs": [
        {
          "output_type": "execute_result",
          "data": {
            "text/plain": [
              "array(['python', 'numpy', 'pandas'], dtype='<U6')"
            ]
          },
          "metadata": {},
          "execution_count": 35
        }
      ]
    },
    {
      "cell_type": "code",
      "source": [
        "# Titlecase\n",
        "\n",
        "j = np.char.title(i)\n",
        "j"
      ],
      "metadata": {
        "colab": {
          "base_uri": "https://localhost:8080/"
        },
        "id": "Ce9okgW8mvF9",
        "outputId": "91b71c46-64c2-4d5c-c8a8-58245ff55475"
      },
      "execution_count": null,
      "outputs": [
        {
          "output_type": "execute_result",
          "data": {
            "text/plain": [
              "array(['Python', 'Numpy', 'Pandas'], dtype='<U6')"
            ]
          },
          "metadata": {},
          "execution_count": 37
        }
      ]
    },
    {
      "cell_type": "code",
      "source": [
        "# Capitalize:-\n",
        "\n",
        "k = np.char.capitalize(j)\n",
        "k"
      ],
      "metadata": {
        "colab": {
          "base_uri": "https://localhost:8080/"
        },
        "id": "EjZEXPBdnhpO",
        "outputId": "24d178f6-ac55-4249-9321-7b8e6998dffa"
      },
      "execution_count": null,
      "outputs": [
        {
          "output_type": "execute_result",
          "data": {
            "text/plain": [
              "array(['Python', 'Numpy', 'Pandas'], dtype='<U6')"
            ]
          },
          "metadata": {},
          "execution_count": 38
        }
      ]
    },
    {
      "cell_type": "markdown",
      "source": [
        "# Answer 6 :-"
      ],
      "metadata": {
        "id": "e21Ih7z4n8X1"
      }
    },
    {
      "cell_type": "code",
      "source": [
        "# Generate a NumPy array of words. Insert a space between each character of every word in the array.\n",
        "\n",
        "\n",
        "l = np.array([\"Sunita\", \"is\", \"studying\", \"data analytics\", \"course\", \"from\", \"PWskills\"])\n",
        "l"
      ],
      "metadata": {
        "colab": {
          "base_uri": "https://localhost:8080/"
        },
        "id": "3dvHZrI1n1A_",
        "outputId": "58f2b365-c6ba-4294-9452-6b3fdc1dbbbf"
      },
      "execution_count": null,
      "outputs": [
        {
          "output_type": "execute_result",
          "data": {
            "text/plain": [
              "array(['Sunita', 'is', 'studying', 'data analytics', 'course', 'from',\n",
              "       'PWskills'], dtype='<U14')"
            ]
          },
          "metadata": {},
          "execution_count": 42
        }
      ]
    },
    {
      "cell_type": "code",
      "source": [
        "# Insert a space between each character of every word in the array using join function :-\n",
        "\n",
        "m = np.char.join(\" \", l)\n",
        "m"
      ],
      "metadata": {
        "colab": {
          "base_uri": "https://localhost:8080/"
        },
        "id": "FDCdh3AdoWH7",
        "outputId": "9f682f25-c961-45c3-8e9f-99dcd06ce74f"
      },
      "execution_count": null,
      "outputs": [
        {
          "output_type": "execute_result",
          "data": {
            "text/plain": [
              "array(['S u n i t a', 'i s', 's t u d y i n g',\n",
              "       'd a t a   a n a l y t i c s', 'c o u r s e', 'f r o m',\n",
              "       'P W s k i l l s'], dtype='<U27')"
            ]
          },
          "metadata": {},
          "execution_count": 47
        }
      ]
    },
    {
      "cell_type": "markdown",
      "source": [
        "# Answer 7 :-"
      ],
      "metadata": {
        "id": "jYK5QyhmvWzT"
      }
    },
    {
      "cell_type": "code",
      "source": [
        "# Created two 2D NumPy arrays and strored in 'o' and 'p' variable arrays :-\n",
        "\n",
        "o = np.array([[1, 2, 3, 4]])\n",
        "p = np.array([[5, 6, 7, 8,]])\n"
      ],
      "metadata": {
        "id": "6492VQ_spsl1"
      },
      "execution_count": null,
      "outputs": []
    },
    {
      "cell_type": "code",
      "source": [
        "o\n",
        "\n"
      ],
      "metadata": {
        "colab": {
          "base_uri": "https://localhost:8080/"
        },
        "id": "kI9jawwrvjGd",
        "outputId": "ae6af2ce-4460-4d47-e974-25e4a0d3a5ac"
      },
      "execution_count": null,
      "outputs": [
        {
          "output_type": "execute_result",
          "data": {
            "text/plain": [
              "array([[1, 2, 3, 4]])"
            ]
          },
          "metadata": {},
          "execution_count": 50
        }
      ]
    },
    {
      "cell_type": "code",
      "source": [
        "o.ndim"
      ],
      "metadata": {
        "colab": {
          "base_uri": "https://localhost:8080/"
        },
        "id": "OqxrAz8Cv4Cu",
        "outputId": "58741f09-fd19-4f47-89ae-2cae023ac56f"
      },
      "execution_count": null,
      "outputs": [
        {
          "output_type": "execute_result",
          "data": {
            "text/plain": [
              "2"
            ]
          },
          "metadata": {},
          "execution_count": 52
        }
      ]
    },
    {
      "cell_type": "code",
      "source": [
        "p"
      ],
      "metadata": {
        "colab": {
          "base_uri": "https://localhost:8080/"
        },
        "id": "4ZrNNhRGv6Oj",
        "outputId": "661a3475-c594-4cbb-fa1a-617d938335f6"
      },
      "execution_count": null,
      "outputs": [
        {
          "output_type": "execute_result",
          "data": {
            "text/plain": [
              "array([[5, 6, 7, 8]])"
            ]
          },
          "metadata": {},
          "execution_count": 53
        }
      ]
    },
    {
      "cell_type": "code",
      "source": [
        "p.ndim"
      ],
      "metadata": {
        "colab": {
          "base_uri": "https://localhost:8080/"
        },
        "id": "XES0ImPcv8hd",
        "outputId": "d42e00dd-afe3-4943-b25a-0f9034484990"
      },
      "execution_count": null,
      "outputs": [
        {
          "output_type": "execute_result",
          "data": {
            "text/plain": [
              "2"
            ]
          },
          "metadata": {},
          "execution_count": 54
        }
      ]
    },
    {
      "cell_type": "code",
      "source": [
        "# Additional :-\n",
        "\n",
        "o + p"
      ],
      "metadata": {
        "colab": {
          "base_uri": "https://localhost:8080/"
        },
        "id": "b0QSnNfqv-n0",
        "outputId": "8dcff1d5-93a3-4adc-acba-2aab09588a2d"
      },
      "execution_count": null,
      "outputs": [
        {
          "output_type": "execute_result",
          "data": {
            "text/plain": [
              "array([[ 6,  8, 10, 12]])"
            ]
          },
          "metadata": {},
          "execution_count": 55
        }
      ]
    },
    {
      "cell_type": "code",
      "source": [
        "# Subtraction :-\n",
        "\n",
        "o - p"
      ],
      "metadata": {
        "colab": {
          "base_uri": "https://localhost:8080/"
        },
        "id": "ot0f23LLwCGQ",
        "outputId": "0d44f5f4-d431-46a6-905b-44f0d080e6c7"
      },
      "execution_count": null,
      "outputs": [
        {
          "output_type": "execute_result",
          "data": {
            "text/plain": [
              "array([[-4, -4, -4, -4]])"
            ]
          },
          "metadata": {},
          "execution_count": 57
        }
      ]
    },
    {
      "cell_type": "code",
      "source": [
        "# Multiplication :-\n",
        "\n",
        "o * p"
      ],
      "metadata": {
        "colab": {
          "base_uri": "https://localhost:8080/"
        },
        "id": "gAuReZIswJOu",
        "outputId": "fc2d65ae-2a9d-4133-f421-5eab974a985e"
      },
      "execution_count": null,
      "outputs": [
        {
          "output_type": "execute_result",
          "data": {
            "text/plain": [
              "array([[ 5, 12, 21, 32]])"
            ]
          },
          "metadata": {},
          "execution_count": 59
        }
      ]
    },
    {
      "cell_type": "code",
      "source": [
        "# Division :-\n",
        "\n",
        "o / p"
      ],
      "metadata": {
        "colab": {
          "base_uri": "https://localhost:8080/"
        },
        "id": "DCzqG13UwQqy",
        "outputId": "81cba3dc-8c7e-4017-e494-d82bec09094f"
      },
      "execution_count": null,
      "outputs": [
        {
          "output_type": "execute_result",
          "data": {
            "text/plain": [
              "array([[0.2       , 0.33333333, 0.42857143, 0.5       ]])"
            ]
          },
          "metadata": {},
          "execution_count": 61
        }
      ]
    },
    {
      "cell_type": "markdown",
      "source": [
        "# Answer 8 :-"
      ],
      "metadata": {
        "id": "IEi52P7r1Ft6"
      }
    },
    {
      "cell_type": "code",
      "source": [
        "# Created a 5x5 identity matrix using eye function :-\n",
        "\n",
        "q = np.eye(5, 5)\n",
        "q\n",
        "\n"
      ],
      "metadata": {
        "colab": {
          "base_uri": "https://localhost:8080/"
        },
        "id": "A2cRqKlywW9Y",
        "outputId": "04265248-81ec-40fd-e3c0-49f4bae92e57"
      },
      "execution_count": null,
      "outputs": [
        {
          "output_type": "execute_result",
          "data": {
            "text/plain": [
              "array([[1., 0., 0., 0., 0.],\n",
              "       [0., 1., 0., 0., 0.],\n",
              "       [0., 0., 1., 0., 0.],\n",
              "       [0., 0., 0., 1., 0.],\n",
              "       [0., 0., 0., 0., 1.]])"
            ]
          },
          "metadata": {},
          "execution_count": 74
        }
      ]
    },
    {
      "cell_type": "code",
      "source": [
        "# Extracted diagonl value of array 'q' using np.diag() function :-\n",
        "\n",
        "r = np.diag(q)\n",
        "r"
      ],
      "metadata": {
        "colab": {
          "base_uri": "https://localhost:8080/"
        },
        "id": "5SJTlNm6yQlb",
        "outputId": "b24d2b1f-3e2d-4588-847e-61243b113146"
      },
      "execution_count": null,
      "outputs": [
        {
          "output_type": "execute_result",
          "data": {
            "text/plain": [
              "array([1., 1., 1., 1., 1.])"
            ]
          },
          "metadata": {},
          "execution_count": 75
        }
      ]
    },
    {
      "cell_type": "markdown",
      "source": [
        "# Answer 9 :-"
      ],
      "metadata": {
        "id": "RedL0dtd1Knz"
      }
    },
    {
      "cell_type": "code",
      "source": [
        "import numpy as np"
      ],
      "metadata": {
        "id": "SKJPRIs32Mnq"
      },
      "execution_count": null,
      "outputs": []
    },
    {
      "cell_type": "code",
      "source": [
        "s = np.random.randint(0, 1001, 100)\n",
        "s"
      ],
      "metadata": {
        "colab": {
          "base_uri": "https://localhost:8080/"
        },
        "id": "cntYidkITgaF",
        "outputId": "3f8d2204-660c-4c0c-c8ac-cc54809960bb"
      },
      "execution_count": null,
      "outputs": [
        {
          "output_type": "execute_result",
          "data": {
            "text/plain": [
              "array([685, 137, 938, 319, 989, 592, 850, 264, 730, 259, 212, 194, 170,\n",
              "       460, 891, 181, 584, 647, 322, 143, 635,  11, 146, 735,  54, 818,\n",
              "       417, 720, 522, 107, 592, 844, 891, 404, 417, 427, 233, 396, 958,\n",
              "        61, 318, 403, 976, 748, 324, 979, 270, 848, 934, 677, 932, 580,\n",
              "       176, 952, 235, 924, 326, 780, 958, 352, 475, 630, 650, 645, 658,\n",
              "       307, 475, 345, 762, 923, 564, 750, 285, 176, 169, 415, 850, 649,\n",
              "       370, 635, 143, 298, 788, 147, 905, 832, 650, 754, 275, 764, 730,\n",
              "        54,   8, 936, 216, 359,  68, 438, 618, 312])"
            ]
          },
          "metadata": {},
          "execution_count": 98
        }
      ]
    },
    {
      "cell_type": "code",
      "source": [
        "# Generate a NumPy array of 100 random integers between 0 and 1000:-\n",
        "s = np.random.randint(0, 1001, 100)\n",
        "\n",
        "# Code to find prime numbers in the array :-\n",
        "# 2 is the only even prime number\n",
        "# Even numbers greater than 2 are not prime\n",
        "\n",
        "prime_numbers = [num for num in s if is_prime(num)]\n",
        "\n",
        "def is_prime(num):\n",
        "\n",
        "    if num <= 1:\n",
        "        return False\n",
        "    if num == 2:\n",
        "        return True\n",
        "    if num % 2 == 0:\n",
        "        return False\n",
        "    i = 3\n",
        "    while i * i <= num:\n",
        "        if num % i == 0:\n",
        "            return False\n",
        "        i += 2\n",
        "    return True\n",
        "\n",
        "\n",
        "print(s)\n",
        "print(prime_numbers)\n"
      ],
      "metadata": {
        "colab": {
          "base_uri": "https://localhost:8080/"
        },
        "id": "KdD-N-QET_1v",
        "outputId": "49772d0a-f4b2-49e7-9316-f578122573ae"
      },
      "execution_count": null,
      "outputs": [
        {
          "output_type": "stream",
          "name": "stdout",
          "text": [
            "[554 973 368 999 917 201 383 512 906 370 555 954 383  23 699 130 377  98\n",
            " 574 931 734 123 963 594 942 739 148 209 562 411 782  41  58 705  36 778\n",
            "  86  43 872  11 770 307  80  32 182 128 806 275 174 554 371 184 444 488\n",
            " 589 286 280 637 770 515  94 226 875 269 880 296 328  19 607 840 410 450\n",
            " 248 180 323 829 782 864 260 963 749 139 598 461 889 621 843 696 528 152\n",
            " 925 149 110  25 464 956 889 886 117 445]\n",
            "[383, 383, 23, 739, 41, 43, 11, 307, 269, 19, 607, 829, 139, 461, 149]\n"
          ]
        }
      ]
    },
    {
      "cell_type": "markdown",
      "source": [
        "# Answer 10 :-"
      ],
      "metadata": {
        "id": "Lj0iV_ZLVXKa"
      }
    },
    {
      "cell_type": "code",
      "source": [
        "# Lets take daily_temperatures = 13 and 40 in Celsius.\n",
        "# Days in a month = 30 days\n",
        "\n",
        "\n",
        "daily_temp = np.random.randint(13, 40, 30)\n",
        "\n",
        "# Reshape the array into 5 weeks and each week has 7 days with length and reshape function\n",
        "num_weeks = len(daily_temp) // 7\n",
        "weekly_temp = daily_temp[ :num_weeks * 7].reshape(num_weeks, 7)\n",
        "\n",
        "weekly_averages = np.mean(weekly_temp, axis=1)\n",
        "\n",
        "print(daily_temp)\n",
        "print(weekly_averages)\n"
      ],
      "metadata": {
        "colab": {
          "base_uri": "https://localhost:8080/"
        },
        "id": "LFbif8qEgX3z",
        "outputId": "cf7a5b23-ccd5-4b61-c92e-dffb4a816aae"
      },
      "execution_count": null,
      "outputs": [
        {
          "output_type": "stream",
          "name": "stdout",
          "text": [
            "[34 27 32 29 31 21 23 39 25 39 21 39 26 29 30 18 36 21 37 39 15 26 22 28\n",
            " 19 28 30 27 13 26]\n",
            "[28.14285714 31.14285714 28.         25.71428571]\n"
          ]
        }
      ]
    }
  ]
}